{
 "cells": [
  {
   "cell_type": "code",
   "execution_count": null,
   "metadata": {},
   "outputs": [],
   "source": [
    "# Dependencies\n",
    "from bs4 import BeautifulSoup\n",
    "import requests\n",
    "import os\n",
    "from splinter import Browser\n",
    "import time\n",
    "import pandas as pd\n",
    "import re"
   ]
  },
  {
   "cell_type": "code",
   "execution_count": null,
   "metadata": {},
   "outputs": [],
   "source": [
    "# path\n",
    "executable_path = {'executable_path': 'chromedriver.exe'}\n",
    "browser = Browser(\"chrome\", **executable_path, headless=False)"
   ]
  },
  {
   "cell_type": "code",
   "execution_count": null,
   "metadata": {},
   "outputs": [],
   "source": [
    "# Visit the NASA news URL\n",
    "url='https://mars.nasa.gov/news/?page=0&per_page=40&order=publish_date+desc%2Ccreated_at+desc&search=&category=19%2C165%2C184%2C204&blank_scope=Latest '\n",
    "browser.visit(url)\n",
    "time.sleep(.2)"
   ]
  },
  {
   "cell_type": "code",
   "execution_count": null,
   "metadata": {},
   "outputs": [],
   "source": [
    "# Create BeautifulSoup object; parse with 'html.parser'\n",
    "html = browser.html\n",
    "soup = BeautifulSoup(html, 'html.parser')"
   ]
  },
  {
   "cell_type": "code",
   "execution_count": null,
   "metadata": {},
   "outputs": [],
   "source": [
    "# Create Mission to Mars global dictionary that can be imported into Mongo\n",
    "mars= {}"
   ]
  },
  {
   "cell_type": "markdown",
   "metadata": {},
   "source": [
    "# NASA Mars News"
   ]
  },
  {
   "cell_type": "code",
   "execution_count": null,
   "metadata": {},
   "outputs": [],
   "source": [
    "# NASA MARS NEWS\n",
    "# Retrieve the latest element that contains news title and news_paragraph\n",
    "news_title = soup.find_all(\"div\", class_=\"content_title\")\n",
    "news_prgf = soup.find(\"div\", class_=\"article_teaser_body\").text\n",
    "\n",
    "print(news_title[1].text)\n",
    "print(news_prgf)"
   ]
  },
  {
   "cell_type": "code",
   "execution_count": null,
   "metadata": {},
   "outputs": [],
   "source": [
    "# Dictionary entry from MARS NEWS\n",
    "mars['news_title']=news_title\n",
    "mars['news_p']=news_prgf"
   ]
  },
  {
   "cell_type": "markdown",
   "metadata": {},
   "source": [
    "# JPL Mars Space Images - Featured Image"
   ]
  },
  {
   "cell_type": "code",
   "execution_count": null,
   "metadata": {},
   "outputs": [],
   "source": [
    "# FEATURED IMAGE\n",
    "# Visit Mars Space Images\n",
    "url2='https://www.jpl.nasa.gov/spaceimages/?search=&category=Mars'\n",
    "browser.visit(url2)\n",
    "time.sleep(.02)"
   ]
  },
  {
   "cell_type": "code",
   "execution_count": null,
   "metadata": {},
   "outputs": [],
   "source": [
    "# Click the image to view it\n",
    "click_image= browser.find_by_id('full_image')\n",
    "click_image.click()\n",
    "time.sleep(5)\n",
    "\n",
    "click_info=browser.find_link_by_partial_text('more info')\n",
    "click_info.click()\n",
    "time.sleep(5)\n",
    "\n",
    "# HTML Object and Parse with Beautiful Soup\n",
    "html = browser.html\n",
    "soup = BeautifulSoup(html, 'html.parser')\n",
    "\n",
    "# Retrieve background-image url from figure tag\n",
    "get_featured_image = soup.find(\"figure\", class_=\"lede\")\n",
    "\n",
    "# Retrieve image URL from src tag\n",
    "featured_image_url=\"https://www.jpl.nasa.gov\"+get_featured_image.a.img[\"src\"]\n",
    "# Display full link to featured image\n",
    "featured_image_url"
   ]
  },
  {
   "cell_type": "code",
   "execution_count": null,
   "metadata": {},
   "outputs": [],
   "source": [
    "# Dictionary entry from MARS NEWS\n",
    "mars['featured_image_url']=featured_image_url"
   ]
  },
  {
   "cell_type": "markdown",
   "metadata": {},
   "source": [
    "## Mars Weather"
   ]
  },
  {
   "cell_type": "code",
   "execution_count": null,
   "metadata": {},
   "outputs": [],
   "source": [
    "# Mars Weather \n",
    "# Visit Weather Twitter through splinter module \n",
    "url3='https://twitter.com/marswxreport?lang=en'\n",
    "browser.visit(url3)\n",
    "time.sleep(2)\n",
    "\n",
    "# HTML Object and Parse with Beautiful Soup\n",
    "html = browser.html\n",
    "soup = BeautifulSoup(html, 'html.parser')\n",
    "\n",
    "# Retrieve all elements that contain weather related words\n",
    "text_weather = re.compile(r'sol')\n",
    "mars_weather = soup.find('span', text = text_weather)\n",
    "mars_weather.text"
   ]
  },
  {
   "cell_type": "code",
   "execution_count": null,
   "metadata": {},
   "outputs": [],
   "source": [
    "# Dictionary entry from WEATHER TWEET\n",
    "mars['weather'] = mars_weather.text"
   ]
  },
  {
   "cell_type": "markdown",
   "metadata": {},
   "source": [
    "# Mars Facts"
   ]
  },
  {
   "cell_type": "code",
   "execution_count": null,
   "metadata": {},
   "outputs": [],
   "source": [
    "# Mars Facts\n",
    "# Visit Mars facts url\n",
    "url=\"http://space-facts.com/mars/\"\n",
    "\n",
    "# Use Pandas to \"read_html\" to parse the URL\n",
    "tables = pd.read_html(url)\n",
    "\n",
    "#Find Mars Facts DataFrame in the lists of DataFrames\n",
    "tables[0]\n",
    "df=tables[0]\n",
    "df"
   ]
  },
  {
   "cell_type": "code",
   "execution_count": null,
   "metadata": {},
   "outputs": [],
   "source": [
    "#Assign the columns\n",
    "df.columns=['Attributes','Values']\n",
    "df\n",
    "html_table = df.to_html()\n",
    "html_table=html_table.replace('\\n', '')"
   ]
  },
  {
   "cell_type": "code",
   "execution_count": null,
   "metadata": {},
   "outputs": [],
   "source": [
    "# Dictionary entry from Mars Facts\n",
    "mars['facts']=html_table\n",
    "html_table=df.to_html"
   ]
  },
  {
   "cell_type": "markdown",
   "metadata": {},
   "source": [
    "# Mars Hemispheres"
   ]
  },
  {
   "cell_type": "code",
   "execution_count": null,
   "metadata": {},
   "outputs": [],
   "source": [
    "# Mars Hemisphere\n",
    "# Visit hemispheres website through splinter module \n",
    "url4='https://astrogeology.usgs.gov/search/results?q=hemisphere+enhanced&k1=target&v1=Mars'\n",
    "browser.visit(url4)\n",
    "time.sleep(.2)\n",
    "# HTML Object and Parse with Beautiful Soup\n",
    "html = browser.html\n",
    "soup = BeautifulSoup(html, 'html.parser')"
   ]
  },
  {
   "cell_type": "code",
   "execution_count": null,
   "metadata": {},
   "outputs": [],
   "source": [
    "# Create empty list for hemisphere urls \n",
    "hemisphere_image_urls = []\n",
    "\n",
    "# Retreive all items that contain mars hemispheres information\n",
    "links = browser.find_by_css('a.product-item h3')\n",
    "\n",
    "# Loop through the items previously stored\n",
    "for i in range(len(links)):\n",
    "    hemisphere = {}\n",
    "    browser.find_by_css('a.product-item h3')[i].click()\n",
    "    \n",
    "    sample_element=browser.find_link_by_text('Sample').first\n",
    "    hemisphere['image_url']=sample_element['href']\n",
    "    hemisphere['title']=browser.find_by_css('h2.title').text\n",
    "    hemisphere_image_urls.append(hemisphere)\n",
    "    browser.back()"
   ]
  },
  {
   "cell_type": "code",
   "execution_count": null,
   "metadata": {},
   "outputs": [],
   "source": [
    "# Display full link to featured images\n",
    "hemisphere_image_urls"
   ]
  },
  {
   "cell_type": "code",
   "execution_count": null,
   "metadata": {},
   "outputs": [],
   "source": [
    "# Dictionary entry from Mars Facts\n",
    "mars['hemisphere']= hemisphere_image_urls"
   ]
  }
 ],
 "metadata": {
  "kernelspec": {
   "display_name": "Python 3",
   "language": "python",
   "name": "python3"
  },
  "language_info": {
   "codemirror_mode": {
    "name": "ipython",
    "version": 3
   },
   "file_extension": ".py",
   "mimetype": "text/x-python",
   "name": "python",
   "nbconvert_exporter": "python",
   "pygments_lexer": "ipython3",
   "version": "3.7.4"
  }
 },
 "nbformat": 4,
 "nbformat_minor": 4
}
